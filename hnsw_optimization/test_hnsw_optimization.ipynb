{
  "cells": [
    {
      "cell_type": "markdown",
      "metadata": {},
      "source": [
        "# HNSW优化测试\n",
        "\n",
        "本notebook用于测试HNSW优化的两个主要功能：\n",
        "1. 高层桥边（High-layer Bridge Edges）\n",
        "2. 自适应多入口种子（Adaptive Multi-entry Seeds）\n",
        "\n",
        "使用Text2Image数据集进行测试，并与基线HNSW进行对比。\n"
      ]
    },
    {
      "cell_type": "code",
      "execution_count": 60,
      "metadata": {},
      "outputs": [
        {
          "name": "stdout",
          "output_type": "stream",
          "text": [
            "所有模块导入成功！\n"
          ]
        }
      ],
      "source": [
        "# 导入必要的库\n",
        "import sys\n",
        "import os\n",
        "sys.path.append('/root/code/vectordbindexing')\n",
        "sys.path.append('/root/code/vectordbindexing/hnsw_optimization')\n",
        "\n",
        "import numpy as np\n",
        "import json\n",
        "import time\n",
        "import matplotlib.pyplot as plt\n",
        "import seaborn as sns\n",
        "from io_utils import read_fbin, read_ibin\n",
        "import faiss\n",
        "\n",
        "# 导入我们的优化模块\n",
        "from data_loader import DataLoader\n",
        "from gt_utils import GroundTruthComputer\n",
        "from hnsw_baseline import HNSWBaseline\n",
        "from bridge_builder import BridgeBuilder\n",
        "from multi_entry_search import MultiEntrySearch, AdaptiveMultiEntrySearch\n",
        "from hnsw_with_bridges import HNSWWithBridges  # 新增：集成版 HNSW\n",
        "\n",
        "print(\"所有模块导入成功！\")"
      ]
    },
    {
      "cell_type": "markdown",
      "metadata": {},
      "source": [
        "## 1. 数据加载\n",
        "\n",
        "加载Text2Image数据集和预计算的ground truth\n"
      ]
    },
    {
      "cell_type": "code",
      "execution_count": 59,
      "metadata": {},
      "outputs": [
        {
          "name": "stdout",
          "output_type": "stream",
          "text": [
            "加载数据集...\n"
          ]
        },
        {
          "name": "stdout",
          "output_type": "stream",
          "text": [
            "数据向量形状: (1000000, 200)\n",
            "查询向量形状: (100000, 200)\n",
            "\n",
            "使用训练数据: (1000000, 200)\n",
            "使用查询数据: (100000, 200)\n",
            "加载 FAISS ground truth 结果...\n",
            "Ground truth 形状: (100000, 100)\n"
          ]
        }
      ],
      "source": [
        "# 数据路径\n",
        "file_path = \"/root/code/vectordbindexing/Text2Image/base.1M.fbin\"\n",
        "query_path = \"/root/code/vectordbindexing/Text2Image/query.public.100K.fbin\"\n",
        "faiss_top100_path = \"/root/code/vectordbindexing/faiss_top100_results.json\"\n",
        "faiss_stats_path = \"/root/code/vectordbindexing/faiss_effort_stats.json\"\n",
        "faiss_effort_perc = \"/root/code/vectordbindexing/faiss_effort_percentiles.json\"\n",
        "\n",
        "print(\"加载数据集...\")\n",
        "\n",
        "# 读取数据集\n",
        "data_vector = read_fbin(file_path)\n",
        "query_vector = read_fbin(query_path)\n",
        "\n",
        "print(f\"数据向量形状: {data_vector.shape}\")\n",
        "print(f\"查询向量形状: {query_vector.shape}\")\n",
        "\n",
        "# 为了测试，使用较小的数据集\n",
        "n_train = len(data_vector)  # 训练数据\n",
        "n_query = len(query_vector)  # 查询数据\n",
        "\n",
        "X = data_vector[:n_train]\n",
        "Q = query_vector[:n_query]\n",
        "\n",
        "print(f\"\\n使用训练数据: {X.shape}\")\n",
        "print(f\"使用查询数据: {Q.shape}\")\n",
        "\n",
        "# 加载 FAISS ground truth 结果\n",
        "print(\"加载 FAISS ground truth 结果...\")\n",
        "gt_computer_loader = GroundTruthComputer()\n",
        "gt_neighbors = gt_computer_loader.load_ground_truth_from_json(faiss_top100_path, n_queries=n_query, k=100)\n",
        "print(f\"Ground truth 形状: {gt_neighbors.shape}\")\n",
        "\n",
        "np.random.seed(42)\n"
      ]
    },
    {
      "cell_type": "markdown",
      "metadata": {},
      "source": [
        "## 2.5. 集成版 HNSW：自动桥接边 + 多入口搜索\n",
        "\n",
        "使用新的 `HNSWWithBridges` 类，将桥接边构建和多入口搜索直接集成到 HNSW 中。\n",
        "\n",
        "**关键特性**：\n",
        "- 构建时自动添加桥接边（基于2跳可达性检测）\n",
        "- 搜索时自动使用多入口点\n",
        "- 单一接口，无需手动管理多个组件\n"
      ]
    },
    {
      "cell_type": "code",
      "execution_count": null,
      "metadata": {},
      "outputs": [
        {
          "name": "stdout",
          "output_type": "stream",
          "text": [
            "======================================================================\n",
            "构建集成版 HNSW（自动添加桥接边 + 多入口搜索）\n",
            "======================================================================\n"
          ]
        }
      ],
      "source": [
        "print(\"=\" * 70)\n",
        "print(\"构建集成版 HNSW（自动添加桥接边 + 多入口搜索）\")\n",
        "print(\"=\" * 70)\n",
        "\n",
        "# 创建集成版 HNSW\n",
        "hnsw_integrated = HNSWWithBridges(\n",
        "    dimension=X.shape[1],\n",
        "    M=64,\n",
        "    ef_construction=200,\n",
        "    # 桥接边配置\n",
        "    enable_bridges=True,\n",
        "    bridge_sample_ratio=0.05,  # 5% 采样（500K数据用较小比例）\n",
        "    max_hop_distance=2,         # 检查2跳可达性\n",
        "    # 多入口搜索配置\n",
        "    enable_multi_entry=True,\n",
        "    num_entry_points=4\n",
        ")\n",
        "\n",
        "# 构建索引（自动添加桥接边）\n",
        "start_time = time.time()\n",
        "hnsw_integrated.build_index(X)\n",
        "integrated_build_time = time.time() - start_time\n",
        "\n",
        "print(f\"\\n✅ 构建完成，耗时: {integrated_build_time:.2f}秒\")\n",
        "\n",
        "# 统计信息\n",
        "stats = hnsw_integrated.get_statistics()\n",
        "print(f\"\\n统计信息:\")\n",
        "print(f\"  总节点数: {stats['total_nodes']}\")\n",
        "print(f\"  桥接边数: {stats['total_bridges']} 条\")\n",
        "print(f\"  桥接边密度: {stats['total_bridges']/stats['total_nodes']:.4f}\")\n",
        "print(f\"  高层节点分布:\")\n",
        "for layer in sorted(stats['high_layer_count'].keys(), reverse=True):\n",
        "    count = stats['high_layer_count'][layer]\n",
        "    print(f\"    Layer {layer}: {count} 个节点\")\n",
        "\n",
        "# 测试单个查询\n",
        "print(\"\\n测试集成版搜索...\")\n",
        "test_query = Q[0]\n",
        "integrated_neighbors, integrated_cost = hnsw_integrated.search(\n",
        "    test_query, k=100, ef_search=200\n",
        ")\n",
        "\n",
        "print(f\"搜索结果: {len(integrated_neighbors)} 个邻居，成本: {integrated_cost}\")\n",
        "print(f\"前10个邻居: {integrated_neighbors[:10]}\")\n"
      ]
    },
    {
      "cell_type": "code",
      "execution_count": null,
      "metadata": {},
      "outputs": [
        {
          "name": "stdout",
          "output_type": "stream",
          "text": [
            "测试不同的入口点数量（num_entry_points）\n",
            "======================================================================\n",
            "测试查询数: 100\n",
            "Ground truth 设置完成: (100, 100)\n",
            "\n",
            "测试 num_entry_points=1...\n"
          ]
        }
      ],
      "source": [
        "print(\"测试不同的入口点数量（num_entry_points）\")\n",
        "print(\"=\" * 70)\n",
        "\n",
        "# 使用前100个查询进行测试\n",
        "n_test_queries = min(100, len(Q))\n",
        "print(f\"测试查询数: {n_test_queries}\")\n",
        "\n",
        "# 准备 ground truth - 使用已加载的 gt_neighbors\n",
        "gt_eval = GroundTruthComputer()\n",
        "gt_eval.gt_neighbors = gt_neighbors[:n_test_queries]  # 关键：设置 ground truth\n",
        "\n",
        "print(f\"Ground truth 设置完成: {gt_eval.gt_neighbors.shape}\")\n",
        "\n",
        "# 测试不同的入口点数量\n",
        "entry_point_values = [1, 2, 4, 8]  # 测试1, 2, 4, 8个入口点\n",
        "results_by_entry = {}\n",
        "\n",
        "for num_entries in entry_point_values:\n",
        "    print(f\"\\n测试 num_entry_points={num_entries}...\")\n",
        "    \n",
        "    # 创建 HNSW\n",
        "    hnsw_test = HNSWWithBridges(\n",
        "        dimension=X.shape[1],\n",
        "        M=64,\n",
        "        ef_construction=200,\n",
        "        enable_bridges=True,\n",
        "        bridge_sample_ratio=0.05,\n",
        "        max_hop_distance=2,\n",
        "        enable_multi_entry=(num_entries > 1),  # num_entries=1时禁用多入口\n",
        "        num_entry_points=num_entries\n",
        "    )\n",
        "    \n",
        "    # 构建索引\n",
        "    build_start = time.time()\n",
        "    hnsw_test.build_index(X)\n",
        "    build_time_test = time.time() - build_start\n",
        "    \n",
        "    # 批量搜索\n",
        "    all_neighbors = []\n",
        "    search_times = []\n",
        "    \n",
        "    for j in range(n_test_queries):\n",
        "        if j % 25 == 0:\n",
        "            print(f\"  处理查询 {j+1}/{n_test_queries}...\")\n",
        "        \n",
        "        start = time.time()\n",
        "        neighbors, _ = hnsw_test.search(Q[j], k=100, ef_search=200)\n",
        "        search_times.append(time.time() - start)\n",
        "        all_neighbors.append(neighbors)\n",
        "    \n",
        "    all_neighbors = np.array(all_neighbors)\n",
        "    \n",
        "    # 计算 recall（使用相同的 ground truth）\n",
        "    recall_10 = gt_eval.compute_recall(all_neighbors, k_eval=10)\n",
        "    recall_100 = gt_eval.compute_recall(all_neighbors, k_eval=100)\n",
        "    avg_time = np.mean(search_times) * 1000\n",
        "    \n",
        "    results_by_entry[num_entries] = {\n",
        "        'recall_10': recall_10,\n",
        "        'recall_100': recall_100,\n",
        "        'avg_time_ms': avg_time,\n",
        "        'build_time': build_time_test,\n",
        "        'bridges': hnsw_test.get_statistics()['total_bridges']\n",
        "    }\n",
        "    \n",
        "    print(f\"  构建时间: {build_time_test:.2f}s\")\n",
        "    print(f\"  Recall@10:  {recall_10:.4f}\")\n",
        "    print(f\"  Recall@100: {recall_100:.4f}\")\n",
        "    print(f\"  查询时间: {avg_time:.3f}ms\")\n",
        "    print(f\"  桥接边: {results_by_entry[num_entries]['bridges']} 条\")\n",
        "\n",
        "# 显示对比结果\n",
        "print(\"\\n\" + \"=\" * 70)\n",
        "print(\"不同入口点数量的性能对比\")\n",
        "print(\"=\" * 70)\n",
        "print(f\"\\n{'入口点数':<10} {'Recall@10':<12} {'Recall@100':<12} {'查询时间(ms)':<15} {'桥接边':<10}\")\n",
        "print(\"-\" * 60)\n",
        "\n",
        "for num_entries in entry_point_values:\n",
        "    result = results_by_entry[num_entries]\n",
        "    print(f\"{num_entries:<10} {result['recall_10']:<12.4f} {result['recall_100']:<12.4f} {result['avg_time_ms']:<15.3f} {result['bridges']:<10}\")\n",
        "\n",
        "# 分析最佳配置\n",
        "best_entry = max(entry_point_values, key=lambda x: results_by_entry[x]['recall_10'])\n",
        "print(f\"\\n💡 分析:\")\n",
        "print(f\"  最佳入口点数: {best_entry} (Recall@10={results_by_entry[best_entry]['recall_10']:.4f})\")\n",
        "\n",
        "print(f\"\\n✅ 入口点数量测试完成\")\n"
      ]
    }
  ],
  "metadata": {
    "kernelspec": {
      "display_name": "Python 3",
      "language": "python",
      "name": "python3"
    },
    "language_info": {
      "codemirror_mode": {
        "name": "ipython",
        "version": 3
      },
      "file_extension": ".py",
      "mimetype": "text/x-python",
      "name": "python",
      "nbconvert_exporter": "python",
      "pygments_lexer": "ipython3",
      "version": "3.10.12"
    }
  },
  "nbformat": 4,
  "nbformat_minor": 2
}

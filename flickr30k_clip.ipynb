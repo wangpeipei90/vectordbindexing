{
 "cells": [
  {
   "cell_type": "code",
   "execution_count": 5,
   "metadata": {},
   "outputs": [],
   "source": [
    "import os\n",
    "import zipfile\n",
    "import pandas as pd\n",
    "from PIL import Image\n",
    "from tqdm import tqdm\n",
    "import faiss, numpy as np\n",
    "from transformers import CLIPModel, CLIPProcessor\n",
    "import torch"
   ]
  },
  {
   "cell_type": "code",
   "execution_count": 6,
   "metadata": {},
   "outputs": [],
   "source": [
    "# ==== 路径配置 ====\n",
    "# \"nlphuji/flickr30k\" on huggingface\n",
    "DATA_ROOT = \"/workspace/datasets/flickr30k\"\n",
    "IMG_ZIP_PATH = os.path.join(DATA_ROOT, \n",
    "                            \"flickr30k-images.zip\")\n",
    "IMG_DIR = os.path.join(DATA_ROOT, \"images\")\n",
    "CAPTION_FILE = os.path.join(DATA_ROOT, \n",
    "                            \"flickr_annotations_30k.csv\")"
   ]
  },
  {
   "cell_type": "code",
   "execution_count": 7,
   "metadata": {},
   "outputs": [],
   "source": [
    "# ==== 解压图像 ====\n",
    "if not os.path.exists(IMG_DIR):\n",
    "    with zipfile.ZipFile(IMG_ZIP_PATH, \"r\") as zip_ref:\n",
    "        zip_ref.extractall(IMG_DIR)"
   ]
  },
  {
   "cell_type": "code",
   "execution_count": 10,
   "metadata": {},
   "outputs": [
    {
     "name": "stdout",
     "output_type": "stream",
     "text": [
      "Index(['raw', 'sentids', 'split', 'filename', 'img_id'], dtype='object')\n",
      "                                                 raw               sentids  \\\n",
      "0  [\"Two young guys with shaggy hair look at thei...       [0, 1, 2, 3, 4]   \n",
      "1  [\"Several men in hard hats are operating a gia...       [5, 6, 7, 8, 9]   \n",
      "2  [\"A child in a pink dress is climbing up a set...  [10, 11, 12, 13, 14]   \n",
      "3  [\"Someone in a blue shirt and hat is standing ...  [15, 16, 17, 18, 19]   \n",
      "4  [\"Two men, one in a gray shirt, one in a black...  [20, 21, 22, 23, 24]   \n",
      "\n",
      "   split        filename  img_id  \n",
      "0  train  1000092795.jpg       0  \n",
      "1  train    10002456.jpg       1  \n",
      "2  train  1000268201.jpg       2  \n",
      "3  train  1000344755.jpg       3  \n",
      "4  train  1000366164.jpg       4  \n"
     ]
    }
   ],
   "source": [
    "# ==== 读取描述文件 ====\n",
    "df = pd.read_csv(CAPTION_FILE)\n",
    "print(df.columns)\n",
    "print(df.head())\n",
    "# 只取前 1000 张图像及对应一条描述\n",
    "df = df.groupby(\"filename\").first().reset_index().\\\n",
    "    iloc[:1000]"
   ]
  },
  {
   "cell_type": "code",
   "execution_count": 14,
   "metadata": {},
   "outputs": [],
   "source": [
    "# 加载预训练的 CLIP 模型与处理器\n",
    "# ==== 加载 CLIP 模型 ====\n",
    "clip_model = CLIPModel.from_pretrained(\n",
    "    \"openai/clip-vit-base-patch16\").eval()\n",
    "clip_processor = CLIPProcessor.from_pretrained(\n",
    "    \"openai/clip-vit-base-patch16\")"
   ]
  },
  {
   "cell_type": "code",
   "execution_count": 22,
   "metadata": {},
   "outputs": [
    {
     "name": "stderr",
     "output_type": "stream",
     "text": [
      "Encoding images: 100%|██████████| 1000/1000 [01:12<00:00, 13.85it/s]\n"
     ]
    }
   ],
   "source": [
    "# ==== 编码图像 ====\n",
    "def encode_images(image_paths):\n",
    "    vectors = []\n",
    "    for img_path in tqdm(image_paths, desc=\"Encoding images\"):\n",
    "        img = Image.open(os.path.join(IMG_DIR + \"/flickr30k-images\", img_path)).convert(\"RGB\")\n",
    "        inputs = clip_processor(images=img, return_tensors=\"pt\")\n",
    "        with torch.no_grad():\n",
    "            emb = clip_model.get_image_features(**inputs).cpu()\n",
    "        vectors.append(emb)\n",
    "    return torch.cat(vectors).numpy().astype(\"float32\")\n",
    "\n",
    "# ==== 编码文本 ====\n",
    "def encode_texts(texts):\n",
    "    inputs = clip_processor(text=texts, return_tensors=\"pt\", padding=True, truncation=True)\n",
    "    with torch.no_grad():\n",
    "        emb = clip_model.get_text_features(**inputs).cpu()\n",
    "    return emb.numpy().astype(\"float32\")\n",
    "\n",
    "# ==== 提取向量 ====\n",
    "image_vecs = encode_images(df[\"filename\"].tolist())\n",
    "text_vecs = encode_texts(df[\"raw\"].tolist())"
   ]
  },
  {
   "cell_type": "markdown",
   "metadata": {},
   "source": [
    "## Test: HNSW数据集中只包含图片数据"
   ]
  },
  {
   "cell_type": "code",
   "execution_count": null,
   "metadata": {},
   "outputs": [],
   "source": [
    "# ==== 构建 FAISS HNSW 索引 ====\n",
    "d = image_vecs.shape[1]\n",
    "index = faiss.IndexHNSWFlat(d, 64)\n",
    "index.hnsw.efConstruction = 256\n",
    "index.add(image_vecs)\n",
    "index.hnsw.efSearch = 256"
   ]
  },
  {
   "cell_type": "code",
   "execution_count": 42,
   "metadata": {},
   "outputs": [
    {
     "name": "stdout",
     "output_type": "stream",
     "text": [
      "I shape: (1, 10)\n",
      "D shape: (1, 10)\n",
      "Distance: [[100.57727  102.65476  102.883026 103.006096 104.107254 104.40054\n",
      "  104.589485 105.162735 105.351585 105.717834]]\n",
      "\n",
      "[Query 0] Text: [\"Two young guys with shaggy hair look at their hands while hanging out in the yard.\", \"Two young, White males are outside near many bushes.\", \"Two men in green shirts are standing in a yard.\", \"A man in a blue shirt standing in a garden.\", \"Two friends enjoy time spent together.\"]\n",
      "Top-10 Retrieved Images:\n",
      "98 0\n",
      "192 1\n",
      "221 2\n",
      "625 3\n",
      "175 4\n",
      "528 5\n",
      "131 6\n",
      "628 7\n",
      "0 8\n",
      "273 9\n",
      "0      1000092795.jpg\n",
      "1        10002456.jpg\n",
      "2      1000268201.jpg\n",
      "3      1000344755.jpg\n",
      "4      1000366164.jpg\n",
      "            ...      \n",
      "995    1321651400.jpg\n",
      "996    1321723162.jpg\n",
      "997    1321949151.jpg\n",
      "998    1322323208.jpg\n",
      "999     132298659.jpg\n",
      "Name: filename, Length: 1000, dtype: object\n"
     ]
    }
   ],
   "source": [
    "NumTest = 1\n",
    "\n",
    "# 执行文本→图像检索\n",
    "# D: top-K 结果对应的距离distance\n",
    "# I: top-K 结果对应的索引index\n",
    "D, I = index.search(text_vecs[:NumTest], k=10)\n",
    "print(\"I shape:\", I.shape)\n",
    "print(\"D shape:\", D.shape)\n",
    "print(\"Distance:\", D)\n",
    "\n",
    "# 输出前 NumTest 条文本对应的 Top-10 图像索引\n",
    "for qid in range(NumTest):\n",
    "    print(f\"\\n[Query {qid}] Text: {df['raw'].iloc[qid]}\")\n",
    "    print(\"Top-10 Retrieved Images:\")\n",
    "    for rank, idx in enumerate(I[qid]):\n",
    "        print(idx, rank)\n",
    "print(df['filename'])"
   ]
  },
  {
   "cell_type": "markdown",
   "metadata": {},
   "source": [
    "## Test-HNSW中包含图片 + 文本数据"
   ]
  },
  {
   "cell_type": "code",
   "execution_count": null,
   "metadata": {},
   "outputs": [],
   "source": [
    "# ==== 构建 FAISS HNSW 索引 ====\n",
    "d = image_vecs.shape[1]\n",
    "index = faiss.IndexHNSWFlat(d, 64)\n",
    "index.hnsw.efConstruction = 256\n",
    "index.add(image_vecs)  # 0-999 是图片vector\n",
    "index.add(text_vecs)   # 1000-1999 是文本vector\n",
    "index.hnsw.efSearch = 256"
   ]
  },
  {
   "cell_type": "code",
   "execution_count": 40,
   "metadata": {},
   "outputs": [
    {
     "name": "stdout",
     "output_type": "stream",
     "text": [
      "I shape: (1, 10)\n",
      "D shape: (1, 10)\n",
      "Distance: [[ 0.       29.725046 30.609203 33.122566 33.70261  33.81827  33.835007\n",
      "  33.90899  34.715187 35.466103]]\n",
      "\n",
      "[Query 0] Text: [\"Two young guys with shaggy hair look at their hands while hanging out in the yard.\", \"Two young, White males are outside near many bushes.\", \"Two men in green shirts are standing in a yard.\", \"A man in a blue shirt standing in a garden.\", \"Two friends enjoy time spent together.\"]\n",
      "Top-10 Retrieved Images:\n",
      "1000 0\n",
      "1639 1\n",
      "1647 2\n",
      "1156 3\n",
      "1152 4\n",
      "1873 5\n",
      "1331 6\n",
      "1042 7\n",
      "1466 8\n",
      "1447 9\n",
      "0      1000092795.jpg\n",
      "1        10002456.jpg\n",
      "2      1000268201.jpg\n",
      "3      1000344755.jpg\n",
      "4      1000366164.jpg\n",
      "            ...      \n",
      "995    1321651400.jpg\n",
      "996    1321723162.jpg\n",
      "997    1321949151.jpg\n",
      "998    1322323208.jpg\n",
      "999     132298659.jpg\n",
      "Name: filename, Length: 1000, dtype: object\n"
     ]
    }
   ],
   "source": [
    "NumTest = 1\n",
    "\n",
    "# 执行文本→图像检索\n",
    "# D: top-K 结果对应的距离distance\n",
    "# I: top-K 结果对应的索引index\n",
    "D, I = index.search(text_vecs[:NumTest], k=10)\n",
    "print(\"I shape:\", I.shape)\n",
    "print(\"D shape:\", D.shape)\n",
    "print(\"Distance:\", D)\n",
    "\n",
    "# 输出前 NumTest 条文本对应的 Top-10 图像索引\n",
    "for qid in range(NumTest):\n",
    "    print(f\"\\n[Query {qid}] Text: {df['raw'].iloc[qid]}\")\n",
    "    print(\"Top-10 Retrieved Images:\")\n",
    "    for rank, idx in enumerate(I[qid]):\n",
    "        print(idx, rank)\n",
    "print(df['filename'])\n",
    "#         print(f\"  {rank+1}. {df['filename'].iloc[idx]}\")"
   ]
  },
  {
   "cell_type": "markdown",
   "metadata": {},
   "source": [
    "## 模态聚类问题\n",
    "- 经过上面的两轮测试，不难发现当将文本数据纳入图index，检索结果主要包含文本数据"
   ]
  }
 ],
 "metadata": {
  "kernelspec": {
   "display_name": "Python 3",
   "language": "python",
   "name": "python3"
  },
  "language_info": {
   "codemirror_mode": {
    "name": "ipython",
    "version": 3
   },
   "file_extension": ".py",
   "mimetype": "text/x-python",
   "name": "python",
   "nbconvert_exporter": "python",
   "pygments_lexer": "ipython3",
   "version": "3.10.12"
  }
 },
 "nbformat": 4,
 "nbformat_minor": 2
}

{
 "cells": [
  {
   "cell_type": "code",
   "execution_count": 83,
   "metadata": {},
   "outputs": [
    {
     "name": "stdout",
     "output_type": "stream",
     "text": [
      "1.11.0\n"
     ]
    }
   ],
   "source": [
    "from io_utils import read_fbin, read_ibin\n",
    "import faiss\n",
    "print(faiss.__version__)\n",
    "import numpy as np\n",
    "file_path = \"/root/code/vectordbindexing/Text2Image/base.1M.fbin\"\n",
    "query_path = \"/root/code/vectordbindexing/Text2Image/query.public.100K.fbin\"\n",
    "ground_truth_path = \"/root/code/vectordbindexing/Text2Image/groundtruth.public.100K.ibin\""
   ]
  },
  {
   "cell_type": "code",
   "execution_count": 94,
   "metadata": {},
   "outputs": [
    {
     "name": "stdout",
     "output_type": "stream",
     "text": [
      "\n",
      "\n",
      "reading image vector: ---\n",
      "<class 'numpy.ndarray'>\n",
      "2 (1000000, 200) float32 200000000\n",
      "\n",
      "\n",
      "reading querys: ---\n",
      "<class 'numpy.ndarray'>\n",
      "2 (100000, 200) float32 20000000\n"
     ]
    }
   ],
   "source": [
    "# read datasets\n",
    "print(\"\\n\\nreading image vector: ---\")\n",
    "data_vector = read_fbin(file_path)\n",
    "print(type(data_vector))\n",
    "print(data_vector.ndim, data_vector.shape, data_vector.dtype, data_vector.size)\n",
    "# print(data_vector[:1])  # Print first 1 elements to verify content\n",
    "\n",
    "train_data_vector = data_vector[:500000]\n",
    "insert_1_percent = data_vector[500000:505000]\n",
    "insert_2_percent = data_vector[505000:510000]\n",
    "insert_3_percent = data_vector[510000:515000]\n",
    "insert_4_percent = data_vector[515000:520000]\n",
    "insert_5_percent = data_vector[520000:525000]\n",
    "insert_10_percent = data_vector[525000:550000]\n",
    "\n",
    "# read querys\n",
    "print(\"\\n\\nreading querys: ---\")\n",
    "query_vector = read_fbin(query_path)\n",
    "print(type(query_vector))\n",
    "print(query_vector.ndim, query_vector.shape, query_vector.dtype, query_vector.size)\n",
    "# print(query_vector[0])  # Print first 3 elements to verify content"
   ]
  },
  {
   "cell_type": "code",
   "execution_count": 110,
   "metadata": {},
   "outputs": [],
   "source": [
    "import time\n",
    "import hnsw_cosine\n",
    "import simple_sim_hash\n",
    "import importlib\n",
    "from concurrent.futures import ThreadPoolExecutor, as_completed\n",
    "from tqdm import tqdm\n",
    "importlib.reload(hnsw_cosine)\n",
    "\n",
    "index = hnsw_cosine.HNSWIndex(M=32, ef_construction=128, ef_search=64, random_seed=1)\n",
    "simHash = simple_sim_hash.SimpleSimHash(dim=200)\n",
    "\n",
    "IMAGE_IDX_SET = set()\n",
    "\n",
    "# 形状 [N,200]（先用1M子集或更小切片做原型）\n",
    "for img_id, vec in enumerate(train_data_vector):        # 可加 tqdm、批量 flush\n",
    "    index.add_item_fast10k(vec, lsh=simHash, limit=500)\n",
    "    IMAGE_IDX_SET.add(img_id)"
   ]
  },
  {
   "cell_type": "code",
   "execution_count": 105,
   "metadata": {},
   "outputs": [
    {
     "name": "stdout",
     "output_type": "stream",
     "text": [
      "num of train: 83333\n",
      "num of test: 16667\n"
     ]
    }
   ],
   "source": [
    "# 读取faiss搜索结果，获取 query_vector 和 search 结果\n",
    "import json\n",
    "train_query_list = {}\n",
    "test_query_list = {}\n",
    "\n",
    "# ground_truth = read_ibin(ground_truth_path)\n",
    "# print(type(ground_truth))\n",
    "# print(ground_truth.ndim, ground_truth.shape, ground_truth.dtype, ground_truth.size)\n",
    "# for query_idx in range(ground_truth.shape[0]):\n",
    "#     if int(query_idx) % 6 != 0:\n",
    "#         train_query_list[query_idx] = ground_truth[query_idx]\n",
    "#     else:\n",
    "#         test_query_list[query_idx] = ground_truth[query_idx]\n",
    "\n",
    "with open(\"./TempResults/search_results_100K.json\", \"r\", encoding=\"utf-8\") as f:\n",
    "    data = json.load(f)\n",
    "    for query_idx, vec_list in data.items():\n",
    "        mList = []\n",
    "        for x in vec_list:\n",
    "            mList.append(x - int(query_idx))\n",
    "        if int(query_idx) % 6 != 0:\n",
    "            train_query_list[int(query_idx)] = mList\n",
    "        else:\n",
    "            test_query_list[int(query_idx)] = mList\n",
    "print(f\"num of train: {len(train_query_list)}\")\n",
    "print(f\"num of test: {len(test_query_list)}\")"
   ]
  },
  {
   "cell_type": "code",
   "execution_count": 97,
   "metadata": {},
   "outputs": [],
   "source": [
    "# reset added links\n",
    "for layer in range(0, 100):\n",
    "    if layer not in index.neighbours:\n",
    "        continue\n",
    "    for idx in range(0, 500000):\n",
    "        if idx not in index.neighbours[layer]:\n",
    "            continue\n",
    "        index.neighbours[layer][idx] = index.neighbours[layer][idx][:32]"
   ]
  },
  {
   "cell_type": "code",
   "execution_count": 111,
   "metadata": {},
   "outputs": [
    {
     "name": "stdout",
     "output_type": "stream",
     "text": [
      "mean steps: 644.5876808548959\n",
      "p99 steps: 976.0\n",
      "p995 steps: 1020.0\n",
      "p999 steps: 1098.0\n"
     ]
    }
   ],
   "source": [
    "# OOD search steps\n",
    "NUM_STEPS = []\n",
    "for qid, target_list in test_query_list.items():\n",
    "    q = query_vector[qid]\n",
    "    for target_id in target_list[:10]:\n",
    "        if target_id not in IMAGE_IDX_SET:\n",
    "            continue\n",
    "        out = index.search_steps_to_target(q, target_id, k=10, ef=64)\n",
    "        NUM_STEPS.append(len(out[\"trace\"]))\n",
    "\n",
    "arr = np.array(NUM_STEPS, dtype=np.float64)\n",
    "arr.sort()\n",
    "\n",
    "mean_steps = arr.mean()\n",
    "p99_steps = np.percentile(arr, 99)\n",
    "p995_steps = np.percentile(arr, 99.5)\n",
    "p999_steps = np.percentile(arr, 99.9)\n",
    "print(f\"mean steps: {mean_steps}\")\n",
    "print(f\"p99 steps: {p99_steps}\")\n",
    "print(f\"p995 steps: {p995_steps}\")\n",
    "print(f\"p999 steps: {p999_steps}\")"
   ]
  },
  {
   "cell_type": "code",
   "execution_count": 112,
   "metadata": {},
   "outputs": [
    {
     "name": "stdout",
     "output_type": "stream",
     "text": [
      "{'pairs_considered': 20604027, 'pairs_added': 200577, 'skipped_missing': 833773, 'skipped_existing': 1, 'pruned_by_cap': 20403449, 'skipped_occluded': 0}\n"
     ]
    }
   ],
   "source": [
    "# add links to the graph\n",
    "stats = index.augment_from_query_topk(\n",
    "    test_query_list,\n",
    "    strategy=\"clique\",\n",
    "    layer=0,\n",
    "    max_new_edges_per_node=1,\n",
    ")\n",
    "print(stats)\n"
   ]
  },
  {
   "cell_type": "code",
   "execution_count": 113,
   "metadata": {},
   "outputs": [
    {
     "name": "stdout",
     "output_type": "stream",
     "text": [
      "mean steps: 637.8591703187849\n",
      "p99 steps: 1190.0\n",
      "p995 steps: 1258.0\n",
      "p999 steps: 1426.0\n"
     ]
    }
   ],
   "source": [
    "# OOD search steps - after add links\n",
    "NUM_STEPS = []\n",
    "for qid, target_list in test_query_list.items():\n",
    "    q = query_vector[qid]\n",
    "    for target_id in target_list[:10]:\n",
    "        if target_id not in IMAGE_IDX_SET:\n",
    "            continue\n",
    "        out = index.search_steps_to_target(q, target_id, k=10, ef=64)\n",
    "        NUM_STEPS.append(len(out[\"trace\"]))\n",
    "\n",
    "arr = np.array(NUM_STEPS, dtype=np.float64)\n",
    "arr.sort()\n",
    "\n",
    "mean_steps = arr.mean()\n",
    "p99_steps = np.percentile(arr, 99)\n",
    "p995_steps = np.percentile(arr, 99.5)\n",
    "p999_steps = np.percentile(arr, 99.9)\n",
    "print(f\"mean steps: {mean_steps}\")\n",
    "print(f\"p99 steps: {p99_steps}\")\n",
    "print(f\"p995 steps: {p995_steps}\")\n",
    "print(f\"p999 steps: {p999_steps}\")"
   ]
  },
  {
   "cell_type": "code",
   "execution_count": 114,
   "metadata": {},
   "outputs": [],
   "source": [
    "# 插入额外的数据；并继续search上面的测试集合，查看search所需steps\n",
    "insert_data_vectors = {\n",
    "    \"insert_1%\": insert_1_percent,\n",
    "    \"insert_2%\": insert_2_percent,\n",
    "    \"insert_3%\": insert_3_percent,\n",
    "    \"insert_4%\": insert_4_percent,\n",
    "    \"insert_5%\": insert_5_percent,\n",
    "    \"insert_10%\": insert_10_percent,\n",
    "}\n",
    "img_id = 500000\n",
    "for name, insert_vectors in insert_data_vectors.items():\n",
    "    # insert 新节点\n",
    "    for _, vec in enumerate(insert_vectors):        # 可加 tqdm、批量 flush\n",
    "        index.add_item(vec, id=img_id)\n",
    "        img_id += 1\n",
    "        IMAGE_IDX_SET.add(img_id)\n",
    "    \n",
    "    NUM_STEPS = []\n",
    "    for qid, target_list in test_query_list.items():\n",
    "        q = query_vector[qid]\n",
    "        for target_id in target_list[:10]:\n",
    "            if target_id not in IMAGE_IDX_SET:\n",
    "                continue\n",
    "            out = index.search_steps_to_target(q, target_id, k=10, ef=64)\n",
    "            NUM_STEPS.append(len(out[\"trace\"]))\n",
    "\n",
    "    arr = np.array(NUM_STEPS, dtype=np.float64)\n",
    "    arr.sort()\n",
    "\n",
    "    mean_steps = arr.mean()\n",
    "    p99_steps = np.percentile(arr, 99)\n",
    "    p995_steps = np.percentile(arr, 99.5)\n",
    "    p999_steps = np.percentile(arr, 99.9)\n",
    "    print(f\"mean steps: {mean_steps}\")\n",
    "    print(f\"p99 steps: {p99_steps}\")\n",
    "    print(f\"p995 steps: {p995_steps}\")\n",
    "    print(f\"p999 steps: {p999_steps}\")"
   ]
  }
 ],
 "metadata": {
  "kernelspec": {
   "display_name": "Python 3",
   "language": "python",
   "name": "python3"
  },
  "language_info": {
   "codemirror_mode": {
    "name": "ipython",
    "version": 3
   },
   "file_extension": ".py",
   "mimetype": "text/x-python",
   "name": "python",
   "nbconvert_exporter": "python",
   "pygments_lexer": "ipython3",
   "version": "3.10.12"
  }
 },
 "nbformat": 4,
 "nbformat_minor": 2
}

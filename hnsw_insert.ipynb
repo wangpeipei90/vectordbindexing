{
 "cells": [
  {
   "cell_type": "code",
   "execution_count": 1,
   "metadata": {},
   "outputs": [
    {
     "name": "stdout",
     "output_type": "stream",
     "text": [
      "1.11.0\n"
     ]
    }
   ],
   "source": [
    "from io_utils import read_fbin, read_ibin\n",
    "import faiss\n",
    "print(faiss.__version__)\n",
    "import numpy as np\n",
    "file_path = \"/root/code/vectordbindexing/Text2Image/base.1M.fbin\"\n",
    "query_path = \"/root/code/vectordbindexing/Text2Image/query.public.100K.fbin\"\n",
    "ground_truth_path = \"/root/code/vectordbindexing/Text2Image/groundtruth.public.100K.ibin\""
   ]
  },
  {
   "cell_type": "code",
   "execution_count": 2,
   "metadata": {},
   "outputs": [
    {
     "name": "stdout",
     "output_type": "stream",
     "text": [
      "\n",
      "\n",
      "reading image vector: ---\n",
      "<class 'numpy.ndarray'>\n",
      "2 (1000000, 200) float32 200000000\n",
      "\n",
      "\n",
      "reading querys: ---\n",
      "<class 'numpy.ndarray'>\n",
      "2 (100000, 200) float32 20000000\n"
     ]
    }
   ],
   "source": [
    "# read datasets\n",
    "print(\"\\n\\nreading image vector: ---\")\n",
    "data_vector = read_fbin(file_path)\n",
    "print(type(data_vector))\n",
    "print(data_vector.ndim, data_vector.shape, data_vector.dtype, data_vector.size)\n",
    "# print(data_vector[:1])  # Print first 1 elements to verify content\n",
    "\n",
    "train_data_vector = data_vector[:500000]\n",
    "insert_1_percent = data_vector[500000:505000]\n",
    "insert_2_percent = data_vector[505000:510000]\n",
    "insert_3_percent = data_vector[510000:515000]\n",
    "insert_4_percent = data_vector[515000:520000]\n",
    "insert_5_percent = data_vector[520000:525000]\n",
    "insert_10_percent = data_vector[525000:550000]\n",
    "\n",
    "# read querys\n",
    "print(\"\\n\\nreading querys: ---\")\n",
    "query_vector = read_fbin(query_path)\n",
    "print(type(query_vector))\n",
    "print(query_vector.ndim, query_vector.shape, query_vector.dtype, query_vector.size)\n",
    "# print(query_vector[0])  # Print first 3 elements to verify content"
   ]
  },
  {
   "cell_type": "code",
   "execution_count": 3,
   "metadata": {},
   "outputs": [],
   "source": [
    "import time\n",
    "import hnsw_cosine\n",
    "import simple_sim_hash\n",
    "import importlib\n",
    "from concurrent.futures import ThreadPoolExecutor, as_completed\n",
    "from tqdm import tqdm\n",
    "importlib.reload(hnsw_cosine)\n",
    "\n",
    "# M=64 比较合适，甚至更宽的宽度\n",
    "# 这里是个经验值：会在增加宽度的同时，逐渐达到一个稳定值\n",
    "index = hnsw_cosine.HNSWIndex(M=64, ef_construction=128, ef_search=64, random_seed=1)\n",
    "simHash = simple_sim_hash.SimpleSimHash(dim=200)\n",
    "\n",
    "IMAGE_IDX_SET = set()\n",
    "\n",
    "# 形状 [N,200]（先用1M子集或更小切片做原型）\n",
    "for img_id, vec in enumerate(train_data_vector):        # 可加 tqdm、批量 flush\n",
    "    index.add_item_fast10k(vec, lsh=simHash, limit=500)\n",
    "    IMAGE_IDX_SET.add(img_id)"
   ]
  },
  {
   "cell_type": "code",
   "execution_count": 4,
   "metadata": {},
   "outputs": [
    {
     "name": "stdout",
     "output_type": "stream",
     "text": [
      "num of train: 83333\n",
      "num of test: 16667\n"
     ]
    }
   ],
   "source": [
    "# 读取faiss搜索结果，获取 query_vector 和 search 结果\n",
    "import json\n",
    "train_query_list = {}\n",
    "test_query_list = {}\n",
    "\n",
    "# ground_truth = read_ibin(ground_truth_path)\n",
    "# print(type(ground_truth))\n",
    "# print(ground_truth.ndim, ground_truth.shape, ground_truth.dtype, ground_truth.size)\n",
    "# for query_idx in range(ground_truth.shape[0]):\n",
    "#     if int(query_idx) % 6 != 0:\n",
    "#         train_query_list[query_idx] = ground_truth[query_idx]\n",
    "#     else:\n",
    "#         test_query_list[query_idx] = ground_truth[query_idx]\n",
    "\n",
    "with open(\"./TempResults/search_results_100K.json\", \"r\", encoding=\"utf-8\") as f:\n",
    "    data = json.load(f)\n",
    "    for query_idx, vec_list in data.items():\n",
    "        mList = []\n",
    "        for x in vec_list:\n",
    "            mList.append(x - int(query_idx))\n",
    "        if int(query_idx) % 6 != 0:\n",
    "            train_query_list[int(query_idx)] = mList\n",
    "        else:\n",
    "            test_query_list[int(query_idx)] = mList\n",
    "print(f\"num of train: {len(train_query_list)}\")\n",
    "print(f\"num of test: {len(test_query_list)}\")"
   ]
  },
  {
   "cell_type": "code",
   "execution_count": 5,
   "metadata": {},
   "outputs": [],
   "source": [
    "# reset added links\n",
    "for layer in range(0, 100):\n",
    "    if layer not in index.neighbours:\n",
    "        continue\n",
    "    for idx in range(0, 500000):\n",
    "        if idx not in index.neighbours[layer]:\n",
    "            continue\n",
    "        index.neighbours[layer][idx] = index.neighbours[layer][idx][:64]"
   ]
  },
  {
   "cell_type": "code",
   "execution_count": 5,
   "metadata": {},
   "outputs": [
    {
     "name": "stdout",
     "output_type": "stream",
     "text": [
      "mean steps: 1139.2761361589721\n",
      "middle steps: 1122.0\n",
      "p99 steps: 1878.0\n"
     ]
    }
   ],
   "source": [
    "# OOD search steps\n",
    "NUM_STEPS = []\n",
    "for qid, target_list in test_query_list.items():\n",
    "    q = query_vector[qid]\n",
    "    for target_id in target_list[:10]:\n",
    "        if target_id not in IMAGE_IDX_SET:\n",
    "            continue\n",
    "        out = index.search_steps_to_target(q, target_id, k=10, ef=64)\n",
    "        NUM_STEPS.append(len(out[\"trace\"]))\n",
    "\n",
    "arr_ori_bak = np.array(NUM_STEPS, dtype=np.float64)\n",
    "arr_ori = arr_ori_bak.copy()\n",
    "arr_ori.sort()\n",
    "\n",
    "mean_steps = arr_ori.mean()\n",
    "P50_steps = np.percentile(arr_ori, 50)\n",
    "p99_steps = np.percentile(arr_ori, 99)\n",
    "print(f\"mean steps: {mean_steps}\")\n",
    "print(f\"middle steps: {P50_steps}\")\n",
    "print(f\"p99 steps: {p99_steps}\")"
   ]
  },
  {
   "cell_type": "code",
   "execution_count": 6,
   "metadata": {},
   "outputs": [
    {
     "name": "stdout",
     "output_type": "stream",
     "text": [
      "{'pairs_considered': 65446, 'pairs_added': 64399, 'skipped_missing': 833773, 'skipped_existing': 3, 'pruned_by_cap': 1044, 'skipped_occluded': 0}\n"
     ]
    }
   ],
   "source": [
    "# add links to the graph\n",
    "stats = index.augment_from_query_topk(\n",
    "    test_query_list,\n",
    "    strategy=\"projection\",\n",
    "    layer=0,\n",
    "    max_new_edges_per_node=4,\n",
    ")\n",
    "print(stats)\n"
   ]
  },
  {
   "cell_type": "code",
   "execution_count": 7,
   "metadata": {},
   "outputs": [
    {
     "name": "stdout",
     "output_type": "stream",
     "text": [
      "mean steps: 1158.755190010206\n",
      "middle steps: 1140.0\n",
      "p99 steps: 1951.0\n",
      "56318 item got the biggest steps reduction: 1787.0\n"
     ]
    }
   ],
   "source": [
    "# OOD search steps - after add links\n",
    "NUM_STEPS = []\n",
    "for qid, target_list in test_query_list.items():\n",
    "    q = query_vector[qid]\n",
    "    for target_id in target_list[:10]:\n",
    "        if target_id not in IMAGE_IDX_SET:\n",
    "            continue\n",
    "        out = index.search_steps_to_target(q, target_id, k=10, ef=64)\n",
    "        NUM_STEPS.append(len(out[\"trace\"]))\n",
    "\n",
    "arr_bak = np.array(NUM_STEPS, dtype=np.float64)\n",
    "arr = arr_bak.copy()\n",
    "arr.sort()\n",
    "\n",
    "mean_steps = arr.mean()\n",
    "P50_steps = np.percentile(arr, 50)\n",
    "p99_steps = np.percentile(arr, 99)\n",
    "print(f\"mean steps: {mean_steps}\")\n",
    "print(f\"middle steps: {P50_steps}\")\n",
    "print(f\"p99 steps: {p99_steps}\")\n",
    "\n",
    "# 检查差距最大的那个结果\n",
    "max_idx = 0\n",
    "max_steps = 0\n",
    "for idx in range(len(arr_ori_bak)):\n",
    "    if arr_ori_bak[idx] - arr_bak[idx] > max_steps:\n",
    "        max_idx = idx\n",
    "        max_steps = arr_ori_bak[idx] - arr_bak[idx]\n",
    "print(f\"{max_idx} item got the biggest steps reduction: {max_steps}\")"
   ]
  },
  {
   "cell_type": "code",
   "execution_count": 8,
   "metadata": {},
   "outputs": [
    {
     "name": "stdout",
     "output_type": "stream",
     "text": [
      "-------------insert_1%--------------\n"
     ]
    },
    {
     "name": "stdout",
     "output_type": "stream",
     "text": [
      "56318 item got the biggest steps reduction: 922.0\n",
      "mean steps: 1411.8548872269846\n",
      "middle steps: 1372.0\n",
      "p99 steps: 2480.0\n",
      "-------------insert_2%--------------\n",
      "56318 item got the biggest steps reduction: 1602.0\n",
      "mean steps: 1510.4847164657122\n",
      "middle steps: 1471.0\n",
      "p99 steps: 2590.459999999992\n",
      "-------------insert_3%--------------\n",
      "56318 item got the biggest steps reduction: 2148.0\n",
      "mean steps: 1584.4771741664724\n",
      "middle steps: 1547.0\n",
      "p99 steps: 2705.0\n",
      "-------------insert_4%--------------\n",
      "56318 item got the biggest steps reduction: 805.0\n",
      "mean steps: 1645.5970800896303\n",
      "middle steps: 1605.0\n",
      "p99 steps: 2827.0\n",
      "-------------insert_5%--------------\n",
      "56318 item got the biggest steps reduction: 1780.0\n",
      "mean steps: 1701.613576306668\n",
      "middle steps: 1664.0\n",
      "p99 steps: 2897.0\n",
      "-------------insert_10%--------------\n",
      "56318 item got the biggest steps reduction: 1350.0\n",
      "mean steps: 1873.3655777658773\n",
      "middle steps: 1838.0\n",
      "p99 steps: 3227.0\n"
     ]
    }
   ],
   "source": [
    "# 插入额外的数据；并继续search上面的测试集合，查看search所需steps\n",
    "insert_data_vectors = {\n",
    "    \"insert_1%\": insert_1_percent,\n",
    "    \"insert_2%\": insert_2_percent,\n",
    "    \"insert_3%\": insert_3_percent,\n",
    "    \"insert_4%\": insert_4_percent,\n",
    "    \"insert_5%\": insert_5_percent,\n",
    "    \"insert_10%\": insert_10_percent,\n",
    "}\n",
    "img_id = 500000\n",
    "for name, insert_vectors in insert_data_vectors.items():\n",
    "    print(f\"-------------{name}--------------\")\n",
    "    # insert 新节点\n",
    "    for _, vec in enumerate(insert_vectors):        # 可加 tqdm、批量 flush\n",
    "        index.add_item(vec, id=img_id)\n",
    "        img_id += 1\n",
    "        IMAGE_IDX_SET.add(img_id)\n",
    "    \n",
    "    NUM_STEPS = []\n",
    "    for qid, target_list in test_query_list.items():\n",
    "        q = query_vector[qid]\n",
    "        for target_id in target_list[:10]:\n",
    "            if target_id not in IMAGE_IDX_SET:\n",
    "                continue\n",
    "            out = index.search_steps_to_target(q, target_id, k=10, ef=64)\n",
    "            NUM_STEPS.append(len(out[\"trace\"]))\n",
    "\n",
    "    arr = np.array(NUM_STEPS, dtype=np.float64)\n",
    "\n",
    "    print(f\"{max_idx} item got the biggest steps reduction: {arr[max_idx]}\")\n",
    "\n",
    "    arr.sort()\n",
    "\n",
    "    mean_steps = arr.mean()\n",
    "    P50_steps = np.percentile(arr, 50)\n",
    "    p99_steps = np.percentile(arr, 99)\n",
    "    print(f\"mean steps: {mean_steps}\")\n",
    "    print(f\"middle steps: {P50_steps}\")\n",
    "    print(f\"p99 steps: {p99_steps}\")"
   ]
  },
  {
   "cell_type": "markdown",
   "metadata": {},
   "source": [
    "## 观测一下瓶颈 profile\n",
    "## 具体的distribution (img + text gap distance)\n",
    "## insert, search 流程，以及存储方式/cache"
   ]
  }
 ],
 "metadata": {
  "kernelspec": {
   "display_name": "Python 3",
   "language": "python",
   "name": "python3"
  },
  "language_info": {
   "codemirror_mode": {
    "name": "ipython",
    "version": 3
   },
   "file_extension": ".py",
   "mimetype": "text/x-python",
   "name": "python",
   "nbconvert_exporter": "python",
   "pygments_lexer": "ipython3",
   "version": "3.10.12"
  }
 },
 "nbformat": 4,
 "nbformat_minor": 2
}
